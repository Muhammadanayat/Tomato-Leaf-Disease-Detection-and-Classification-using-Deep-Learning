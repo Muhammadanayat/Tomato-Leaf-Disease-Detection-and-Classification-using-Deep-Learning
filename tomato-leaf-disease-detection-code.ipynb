{
 "cells": [
  {
   "cell_type": "code",
   "execution_count": 1,
   "id": "da3b01bf",
   "metadata": {
    "_cell_guid": "b1076dfc-b9ad-4769-8c92-a6c4dae69d19",
    "_uuid": "8f2839f25d086af736a60e9eeb907d3b93b6e0e5",
    "execution": {
     "iopub.execute_input": "2024-11-19T17:30:33.135751Z",
     "iopub.status.busy": "2024-11-19T17:30:33.135236Z",
     "iopub.status.idle": "2024-11-19T17:30:33.146461Z",
     "shell.execute_reply": "2024-11-19T17:30:33.145220Z"
    },
    "papermill": {
     "duration": 0.019605,
     "end_time": "2024-11-19T17:30:33.148942",
     "exception": false,
     "start_time": "2024-11-19T17:30:33.129337",
     "status": "completed"
    },
    "tags": []
   },
   "outputs": [],
   "source": [
    "# Custom Params\n",
    "IMAGE_SIZE = (128, 128)\n",
    "TEST_DATA_SIZE = 0.2"
   ]
  },
  {
   "cell_type": "markdown",
   "id": "7eb7fd0f",
   "metadata": {
    "papermill": {
     "duration": 0.003024,
     "end_time": "2024-11-19T17:30:33.155602",
     "exception": false,
     "start_time": "2024-11-19T17:30:33.152578",
     "status": "completed"
    },
    "tags": []
   },
   "source": [
    "# Data Loading"
   ]
  },
  {
   "cell_type": "code",
   "execution_count": 2,
   "id": "2f658f14",
   "metadata": {
    "execution": {
     "iopub.execute_input": "2024-11-19T17:30:33.163903Z",
     "iopub.status.busy": "2024-11-19T17:30:33.163436Z",
     "iopub.status.idle": "2024-11-19T17:30:33.445907Z",
     "shell.execute_reply": "2024-11-19T17:30:33.444666Z"
    },
    "papermill": {
     "duration": 0.289311,
     "end_time": "2024-11-19T17:30:33.448190",
     "exception": false,
     "start_time": "2024-11-19T17:30:33.158879",
     "status": "completed"
    },
    "tags": []
   },
   "outputs": [
    {
     "name": "stdout",
     "output_type": "stream",
     "text": [
      "['Tomato_Leaf_Mold', 'Tomato__Tomato_YellowLeaf__Curl_Virus', 'Tomato_Bacterial_spot', 'Tomato_Septoria_leaf_spot', 'Tomato_healthy', 'Tomato_Spider_mites_Two_spotted_spider_mite', 'Tomato_Early_blight', 'Tomato__Target_Spot', 'Tomato_Late_blight', 'Tomato__Tomato_mosaic_virus']\n"
     ]
    }
   ],
   "source": [
    "import os\n",
    "import cv2\n",
    "import numpy as np\n",
    "from tqdm import tqdm\n",
    "\n",
    "# Path to the dataset\n",
    "data_dir = '/kaggle/input/plantdisease/PlantVillage'\n",
    "\n",
    "# Classes (labels) based on folder names in the dataset\n",
    "classes = [plant for plant in os.listdir(\"/kaggle/input/plantdisease/PlantVillage\") if plant.startswith(\"Tomato\")]\n",
    "print(classes)\n",
    "\n",
    "# Mapper dictionary\n",
    "class_mapper = {\n",
    "    'Tomato_Leaf_Mold': 'Leaf Mold',\n",
    "    'Tomato__Tomato_YellowLeaf__Curl_Virus': 'Yellow Leaf Curl Virus',\n",
    "    'Tomato_Bacterial_spot': 'Bacterial Spot',\n",
    "    'Tomato_Septoria_leaf_spot': 'Septoria Leaf Spot',\n",
    "    'Tomato_healthy': 'Healthy',\n",
    "    'Tomato_Spider_mites_Two_spotted_spider_mite': 'Spider Mites',\n",
    "    'Tomato_Early_blight': 'Early Blight',\n",
    "    'Tomato__Target_Spot': 'Target Spot',\n",
    "    'Tomato_Late_blight': 'Late Blight',\n",
    "    'Tomato__Tomato_mosaic_virus': 'Mosaic Virus'\n",
    "}"
   ]
  },
  {
   "cell_type": "code",
   "execution_count": 3,
   "id": "f7cdedea",
   "metadata": {
    "execution": {
     "iopub.execute_input": "2024-11-19T17:30:33.456364Z",
     "iopub.status.busy": "2024-11-19T17:30:33.455966Z",
     "iopub.status.idle": "2024-11-19T17:33:20.877380Z",
     "shell.execute_reply": "2024-11-19T17:33:20.876120Z"
    },
    "papermill": {
     "duration": 167.428206,
     "end_time": "2024-11-19T17:33:20.879804",
     "exception": false,
     "start_time": "2024-11-19T17:30:33.451598",
     "status": "completed"
    },
    "tags": []
   },
   "outputs": [
    {
     "name": "stderr",
     "output_type": "stream",
     "text": [
      "10it [02:47, 16.71s/it]\n"
     ]
    },
    {
     "name": "stdout",
     "output_type": "stream",
     "text": [
      "Data loaded successfully: 16011 images with size (128, 128, 3)\n"
     ]
    }
   ],
   "source": [
    "X = []\n",
    "y = []\n",
    "\n",
    "for label, class_name in tqdm(enumerate(classes)):\n",
    "    class_dir = os.path.join(data_dir, class_name)\n",
    "    label_name = class_mapper[class_name]\n",
    "    \n",
    "    if not os.path.isdir(class_dir):\n",
    "        continue\n",
    "    for img_file in os.listdir(class_dir):\n",
    "        img_path = os.path.join(class_dir, img_file)\n",
    "        \n",
    "        # Read the image using OpenCV\n",
    "        img = cv2.imread(img_path)\n",
    "        if img is not None:\n",
    "            img = cv2.resize(img, IMAGE_SIZE)           # Resize image: Preprocessing\n",
    "            img = cv2.cvtColor(img, cv2.COLOR_BGR2RGB)  # Converting BGR to RGB: Preprocessing\n",
    "            X.append(img)\n",
    "            y.append(label_name)\n",
    "\n",
    "# Converting lists to numpy arrays\n",
    "X = np.array(X)\n",
    "y = np.array(y)\n",
    "\n",
    "print(f\"Data loaded successfully: {X.shape[0]} images with size {X.shape[1:]}\")"
   ]
  },
  {
   "cell_type": "code",
   "execution_count": null,
   "id": "374ff0a8",
   "metadata": {
    "papermill": {
     "duration": 0.003834,
     "end_time": "2024-11-19T17:33:20.887671",
     "exception": false,
     "start_time": "2024-11-19T17:33:20.883837",
     "status": "completed"
    },
    "tags": []
   },
   "outputs": [],
   "source": []
  },
  {
   "cell_type": "code",
   "execution_count": null,
   "id": "ccc69155",
   "metadata": {
    "papermill": {
     "duration": 0.00371,
     "end_time": "2024-11-19T17:33:20.895252",
     "exception": false,
     "start_time": "2024-11-19T17:33:20.891542",
     "status": "completed"
    },
    "tags": []
   },
   "outputs": [],
   "source": []
  },
  {
   "cell_type": "code",
   "execution_count": null,
   "id": "95ce5282",
   "metadata": {
    "papermill": {
     "duration": 0.003563,
     "end_time": "2024-11-19T17:33:20.902601",
     "exception": false,
     "start_time": "2024-11-19T17:33:20.899038",
     "status": "completed"
    },
    "tags": []
   },
   "outputs": [],
   "source": []
  },
  {
   "cell_type": "code",
   "execution_count": null,
   "id": "9b78a8af",
   "metadata": {
    "papermill": {
     "duration": 0.004605,
     "end_time": "2024-11-19T17:33:20.910959",
     "exception": false,
     "start_time": "2024-11-19T17:33:20.906354",
     "status": "completed"
    },
    "tags": []
   },
   "outputs": [],
   "source": []
  },
  {
   "cell_type": "code",
   "execution_count": null,
   "id": "c8265f96",
   "metadata": {
    "papermill": {
     "duration": 0.003708,
     "end_time": "2024-11-19T17:33:20.918482",
     "exception": false,
     "start_time": "2024-11-19T17:33:20.914774",
     "status": "completed"
    },
    "tags": []
   },
   "outputs": [],
   "source": []
  },
  {
   "cell_type": "code",
   "execution_count": null,
   "id": "04162235",
   "metadata": {
    "papermill": {
     "duration": 0.004318,
     "end_time": "2024-11-19T17:33:20.926747",
     "exception": false,
     "start_time": "2024-11-19T17:33:20.922429",
     "status": "completed"
    },
    "tags": []
   },
   "outputs": [],
   "source": []
  },
  {
   "cell_type": "code",
   "execution_count": null,
   "id": "a3dab472",
   "metadata": {
    "papermill": {
     "duration": 0.003959,
     "end_time": "2024-11-19T17:33:20.934700",
     "exception": false,
     "start_time": "2024-11-19T17:33:20.930741",
     "status": "completed"
    },
    "tags": []
   },
   "outputs": [],
   "source": []
  },
  {
   "cell_type": "code",
   "execution_count": null,
   "id": "294f0a86",
   "metadata": {
    "papermill": {
     "duration": 0.003811,
     "end_time": "2024-11-19T17:33:20.942712",
     "exception": false,
     "start_time": "2024-11-19T17:33:20.938901",
     "status": "completed"
    },
    "tags": []
   },
   "outputs": [],
   "source": []
  },
  {
   "cell_type": "code",
   "execution_count": null,
   "id": "0716da85",
   "metadata": {
    "papermill": {
     "duration": 0.003857,
     "end_time": "2024-11-19T17:33:20.950437",
     "exception": false,
     "start_time": "2024-11-19T17:33:20.946580",
     "status": "completed"
    },
    "tags": []
   },
   "outputs": [],
   "source": []
  },
  {
   "cell_type": "code",
   "execution_count": null,
   "id": "28bce2ef",
   "metadata": {
    "papermill": {
     "duration": 0.003816,
     "end_time": "2024-11-19T17:33:20.958205",
     "exception": false,
     "start_time": "2024-11-19T17:33:20.954389",
     "status": "completed"
    },
    "tags": []
   },
   "outputs": [],
   "source": []
  },
  {
   "cell_type": "code",
   "execution_count": null,
   "id": "ca530e7a",
   "metadata": {
    "papermill": {
     "duration": 0.003678,
     "end_time": "2024-11-19T17:33:20.965728",
     "exception": false,
     "start_time": "2024-11-19T17:33:20.962050",
     "status": "completed"
    },
    "tags": []
   },
   "outputs": [],
   "source": []
  }
 ],
 "metadata": {
  "kaggle": {
   "accelerator": "none",
   "dataSources": [
    {
     "datasetId": 70909,
     "sourceId": 150545,
     "sourceType": "datasetVersion"
    }
   ],
   "dockerImageVersionId": 30786,
   "isGpuEnabled": false,
   "isInternetEnabled": true,
   "language": "python",
   "sourceType": "notebook"
  },
  "kernelspec": {
   "display_name": "Python 3",
   "language": "python",
   "name": "python3"
  },
  "language_info": {
   "codemirror_mode": {
    "name": "ipython",
    "version": 3
   },
   "file_extension": ".py",
   "mimetype": "text/x-python",
   "name": "python",
   "nbconvert_exporter": "python",
   "pygments_lexer": "ipython3",
   "version": "3.10.14"
  },
  "papermill": {
   "default_parameters": {},
   "duration": 171.236575,
   "end_time": "2024-11-19T17:33:21.490483",
   "environment_variables": {},
   "exception": null,
   "input_path": "__notebook__.ipynb",
   "output_path": "__notebook__.ipynb",
   "parameters": {},
   "start_time": "2024-11-19T17:30:30.253908",
   "version": "2.6.0"
  }
 },
 "nbformat": 4,
 "nbformat_minor": 5
}
